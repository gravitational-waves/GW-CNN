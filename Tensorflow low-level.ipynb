{
 "cells": [
  {
   "cell_type": "code",
   "execution_count": 2,
   "metadata": {
    "id": "ARjOCw8EOuk2",
    "colab_type": "code",
    "colab": {}
   },
   "outputs": [],
   "source": [
    "import tensorflow as tf"
   ]
  },
  {
   "cell_type": "code",
   "execution_count": 4,
   "metadata": {
    "id": "91ZBBHdpPGRx",
    "colab_type": "code",
    "colab": {}
   },
   "outputs": [],
   "source": [
    "# tf.enable_eager_execution()\n",
    "my_graph = tf.Graph()\n"
   ]
  },
  {
   "cell_type": "code",
   "execution_count": 5,
   "metadata": {
    "id": "Y3Vu6P5508qE",
    "colab_type": "code",
    "colab": {
     "base_uri": "https://localhost:8080/",
     "height": 38.0
    },
    "outputId": "ff34d4ee-da8d-4c2a-9c22-7eaff8d34032",
    "executionInfo": {
     "status": "ok",
     "timestamp": 1.551824365339E12,
     "user_tz": -330.0,
     "elapsed": 1671.0,
     "user": {
      "displayName": "Chinmay Shah",
      "photoUrl": "",
      "userId": "15489266436136467890"
     }
    }
   },
   "outputs": [
    {
     "name": "stdout",
     "output_type": "stream",
     "text": [
      "[104. 204.]\n"
     ]
    }
   ],
   "source": [
    "with my_graph.as_default():\n",
    "    a = tf.placeholder(tf.float32)\n",
    "    b = tf.placeholder(tf.float32)\n",
    "    c = tf.constant([10.0, 20.0])\n",
    "    total = a+b+c\n",
    "\n",
    "    with tf.Session(graph=my_graph) as sess:\n",
    "        print(sess.run(total, feed_dict={a:[3,1], b:[1,3], c:[100,200]}))\n"
   ]
  },
  {
   "cell_type": "code",
   "execution_count": 0,
   "metadata": {
    "colab_type": "code",
    "id": "rPbKY6QrSa6s",
    "colab": {}
   },
   "outputs": [],
   "source": [
    "with my_graph.as_default():\n",
    "    arr1 = [x*x for x in range(10)]\n",
    "    arr2 = [x*x*x for x in range(10)]\n",
    "    slices = tf.data.Dataset.from_tensor_slices((arr1, arr2))\n",
    "    print(slices.output_shapes)\n",
    "    slices = slices.batch(2).repeat(1)\n",
    "    print(slices)\n",
    "    next_item = slices.make_one_shot_iterator().get_next()\n",
    "    print(next_item)\n",
    "\n",
    "    with tf.Session(graph=my_graph) as sess:\n",
    "        while True:\n",
    "            try:\n",
    "                print(sess.run(next_item))\n",
    "            except tf.errors.OutOfRangeError:\n",
    "                break"
   ]
  },
  {
   "cell_type": "code",
   "execution_count": 0,
   "metadata": {
    "id": "I0Pab-Pc9DrH",
    "colab_type": "code",
    "colab": {}
   },
   "outputs": [],
   "source": [
    "with my_graph.as_default():\n",
    "    r = tf.random_normal([10,3])\n",
    "    print(r)\n",
    "    slices = tf.data.Dataset.from_tensor_slices(r)\n",
    "    print(slices.output_shapes)\n",
    "    iterator = slices.make_initializable_iterator()\n",
    "    next_item = iterator.get_next()\n",
    "    \n",
    "    with tf.Session(graph=my_graph) as sess:\n",
    "        sess.run(iterator.initializer)\n",
    "        while True:\n",
    "            try:\n",
    "                print(sess.run(next_item))\n",
    "            except tf.errors.OutOfRangeError:\n",
    "                break"
   ]
  },
  {
   "cell_type": "code",
   "execution_count": 0,
   "metadata": {
    "id": "oUvUjAe8H2ps",
    "colab_type": "code",
    "colab": {}
   },
   "outputs": [],
   "source": [
    "with my_graph.as_default():\n",
    "    x = tf.placeholder(tf.float32, shape=[None, 3])\n",
    "    linear_model = tf.layers.Dense(units=2)\n",
    "    y = linear_model(x)\n",
    "    print(y.shape)\n",
    "    \n",
    "    init = tf.global_variables_initializer()\n",
    "    \n",
    "    with tf.Session(graph=my_graph) as sess:\n",
    "        sess.run(init)\n",
    "        print(sess.run(y, feed_dict={x:[[1, 2, 3], [4, 5, 6]]}))\n",
    "        print(linear_model.weights)"
   ]
  },
  {
   "cell_type": "code",
   "execution_count": 0,
   "metadata": {
    "id": "V4FtJDQrfxpk",
    "colab_type": "code",
    "colab": {}
   },
   "outputs": [],
   "source": [
    "with my_graph.as_default():\n",
    "    sales = [[5,10], [6,12], [2,4], [10,20]]\n",
    "    department = [\"sports\", \"gardening\", \"toys\", \"sports\"]\n",
    "    features = {\"sales\":sales, \"department\":department}\n",
    "    department_column = tf.feature_column.categorical_column_with_vocabulary_list(\"department\", [\"sports\", \"gardening\", \"toys\"])\n",
    "    department_column = tf.feature_column.indicator_column(department_column)\n",
    "    columns = [tf.feature_column.numeric_column(\"sales\", shape=[2]),\n",
    "              department_column]\n",
    "    inputs = tf.feature_column.input_layer(features, columns)\n",
    "    \n",
    "    var_init = tf.global_variables_initializer()\n",
    "    table_init = tf.tables_initializer()\n",
    "    \n",
    "    with tf.Session(graph=my_graph) as sess:\n",
    "        sess.run((var_init, table_init))\n",
    "        print(sess.run(inputs))"
   ]
  },
  {
   "cell_type": "code",
   "execution_count": 95,
   "metadata": {
    "id": "7X81kkjroNz5",
    "colab_type": "code",
    "colab": {
     "base_uri": "https://localhost:8080/",
     "height": 392.0
    },
    "outputId": "c62b8a34-264b-4d9b-a68a-4b9be55992ba",
    "executionInfo": {
     "status": "ok",
     "timestamp": 1.551825008121E12,
     "user_tz": -330.0,
     "elapsed": 1889.0,
     "user": {
      "displayName": "Chinmay Shah",
      "photoUrl": "",
      "userId": "15489266436136467890"
     }
    }
   },
   "outputs": [
    {
     "name": "stdout",
     "output_type": "stream",
     "text": [
      "[<tf.Variable 'dense_64/kernel:0' shape=(1, 1) dtype=float32_ref>, <tf.Variable 'dense_64/bias:0' shape=(1,) dtype=float32_ref>]\n",
      "14.229039\n",
      "0.67458\n",
      "0.30605727\n",
      "0.27972442\n",
      "0.26322266\n",
      "0.24789605\n",
      "0.23346704\n",
      "0.219878\n",
      "0.20707999\n",
      "0.19502683\n",
      "Predicted output:\n",
      "[[-0.6920138]\n",
      " [-1.3353281]\n",
      " [-1.9786423]\n",
      " [-2.6219566]]\n",
      "Final loss:  0.18478003\n",
      "[array([[-0.64331424]], dtype=float32), array([-0.04869957], dtype=float32)]\n"
     ]
    }
   ],
   "source": [
    "with my_graph.as_default():\n",
    "    x = tf.constant([[1],[2],[3],[4]], dtype=tf.float32)\n",
    "    y_true = tf.constant([[0],[-1],[-2],[-3]], dtype=tf.float32)\n",
    "    \n",
    "#     ds = tf.data.Dataset.from_tensor_slices((x, y_true))\n",
    "    \n",
    "    linear_model = tf.layers.Dense(units=1)\n",
    "    y_predicted = linear_model(x)\n",
    "    print(linear_model.weights)\n",
    "    loss = tf.losses.mean_squared_error(labels=y_true, predictions=y_predicted)\n",
    "    optimizer = tf.train.GradientDescentOptimizer(0.01)\n",
    "    train = optimizer.minimize(loss)\n",
    "    var_init = tf.global_variables_initializer()\n",
    "    \n",
    "    with tf.Session(graph=my_graph) as sess:\n",
    "        sess.run(var_init)\n",
    "        for i in range(100):\n",
    "            _, loss_val = sess.run((train, loss))\n",
    "            if i%10 == 0:\n",
    "                print(loss_val)\n",
    "        print(\"Predicted output:\")\n",
    "        print(sess.run(y_predicted))\n",
    "        print(\"Final loss: \", loss_val)\n",
    "        print(sess.run(linear_model.weights))"
   ]
  }
 ],
 "metadata": {
  "colab": {
   "name": "Tensorflow low-level.ipynb",
   "version": "0.3.2",
   "provenance": []
  },
  "kernelspec": {
   "name": "python3",
   "display_name": "Python 3"
  },
  "accelerator": "GPU"
 },
 "nbformat": 4,
 "nbformat_minor": 0
}
